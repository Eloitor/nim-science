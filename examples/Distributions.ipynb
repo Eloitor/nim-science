{
 "cells": [
  {
   "cell_type": "markdown",
   "metadata": {},
   "source": [
    "# Distributions\n",
    "\n",
    "## Normal distribution\n",
    "\n",
    "To generate `1000` samples from a normal distribution\n",
    "\n",
    "$$\n",
    "s \\sim \\mathcal{N}\\left(2.5, 10.0\\right)\n",
    "$$\n",
    "\n",
    "we run:"
   ]
  },
  {
   "cell_type": "code",
   "execution_count": 10,
   "metadata": {},
   "outputs": [
    {
     "name": "stdout",
     "output_type": "stream",
     "text": [
      "!!!!!!!!!!!!!!!!!!!!!!!!!!!!!!!!!!!!!!!!\n",
      "!! Compiling for Python 3.6 (DYNAMIC) !!\n",
      "!!!!!!!!!!!!!!!!!!!!!!!!!!!!!!!!!!!!!!!!\n"
     ]
    },
    {
     "data": {
      "image/png": "[encoded data removed]"
     },
     "metadata": {
      "image/png": {
       "height": 250,
       "width": 600
      }
     },
     "output_type": "display_data"
    },
    {
     "data": {
      "text/plain": [
       "Loaded dynamic library: 'libpython3.6.dylib'\n"
      ]
     },
     "execution_count": 10,
     "metadata": {},
     "output_type": "execute_result"
    }
   ],
   "source": [
    "#>flags -d:py3_version:3.6 -d:py3_dynamic --hints:off --verbosity:0\n",
    "#>inlineplot 600 250\n",
    "\n",
    "import science/Distributions\n",
    "\n",
    "let s = rnorm(1000, 2.5, 10.0)\n",
    "\n",
    "show:\n",
    "    hist(s, bins=50, log=false)"
   ]
  },
  {
   "cell_type": "markdown",
   "metadata": {},
   "source": [
    "We can calculate the variance and standard deviation, using respectively `variance` and `sd`:"
   ]
  },
  {
   "cell_type": "code",
   "execution_count": 12,
   "metadata": {},
   "outputs": [
    {
     "name": "stdout",
     "output_type": "stream",
     "text": [
      "!!!!!!!!!!!!!!!!!!!!!!!!!!!!!!!!!!!!!!!!\n",
      "!! Compiling for Python 3.6 (DYNAMIC) !!\n",
      "!!!!!!!!!!!!!!!!!!!!!!!!!!!!!!!!!!!!!!!!\n"
     ]
    },
    {
     "data": {
      "text/plain": [
       "Loaded dynamic library: 'libpython3.6.dylib'\n",
       "103.8289470443685\n",
       "10.18964901477811\n"
      ]
     },
     "execution_count": 12,
     "metadata": {},
     "output_type": "execute_result"
    }
   ],
   "source": [
    "import science/Distributions\n",
    "import science/Misc\n",
    "\n",
    "let s = rnorm(1000, 2.5, 10.0)\n",
    "echo(variance(s))\n",
    "echo(sd(s))"
   ]
  },
  {
   "cell_type": "code",
   "execution_count": null,
   "metadata": {
    "collapsed": true
   },
   "outputs": [],
   "source": []
  }
 ],
 "metadata": {
  "kernelspec": {
   "display_name": "Nim",
   "language": "nim",
   "name": "nim-spec"
  },
  "language_info": {
   "codemirror_mode": "nim",
   "file_extension": ".nim",
   "mimetype": "text/x-nimrod",
   "name": "nim",
   "nbconvert_exporter": "",
   "pygments_lexer": "",
   "version": "0.2"
  }
 },
 "nbformat": 4,
 "nbformat_minor": 2
}
