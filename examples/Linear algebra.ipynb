{
 "cells": [
  {
   "cell_type": "markdown",
   "metadata": {},
   "source": [
    "# Matrices\n",
    "\n",
    "## Create matrices"
   ]
  },
  {
   "cell_type": "code",
   "execution_count": 8,
   "metadata": {},
   "outputs": [
    {
     "name": "stdout",
     "output_type": "stream",
     "text": []
    },
    {
     "data": {
      "text/plain": [
       "ref 0x1012d90a8 --> [elements = 0x1012da2e8[0x1012da320[1.0, 1.0, 1.0], 0x1012da358[2.0, 2.0, 2.0], 0x1012da390[3.0, 3.0, 3.0]]]\n",
       "\n"
      ]
     },
     "execution_count": 8,
     "metadata": {},
     "output_type": "execute_result"
    }
   ],
   "source": [
    "import science/Matrix\n",
    "\n",
    "let m = Matrix.createMatrix(@[@[1.0,1.0,1.0], @[2.0,2.0,2.0], @[3.0,3.0,3.0]])\n",
    "echo(repr(m))"
   ]
  },
  {
   "cell_type": "markdown",
   "metadata": {},
   "source": [
    "We can also create an empty (zero-ed) matrix by using `zeroMatrix` with the provided dimensions"
   ]
  },
  {
   "cell_type": "code",
   "execution_count": 9,
   "metadata": {},
   "outputs": [
    {
     "name": "stdout",
     "output_type": "stream",
     "text": []
    },
    {
     "data": {
      "text/plain": [
       "ref 0x104cf40c8 --> [elements = 0x104cf54a8[0x104cf54e0[0.0, 0.0, 0.0], 0x104cf5518[0.0, 0.0, 0.0], 0x104cf5550[0.0, 0.0, 0.0]]]\n",
       "\n"
      ]
     },
     "execution_count": 9,
     "metadata": {},
     "output_type": "execute_result"
    }
   ],
   "source": [
    "import science/Matrix\n",
    "\n",
    "let z = Matrix.zeroMatrix(3, 3)\n",
    "echo(repr(z))"
   ]
  },
  {
   "cell_type": "markdown",
   "metadata": {},
   "source": [
    "We can fill a matrix with random values by using the `randomMatrix` method:"
   ]
  },
  {
   "cell_type": "code",
   "execution_count": 11,
   "metadata": {},
   "outputs": [
    {
     "name": "stdout",
     "output_type": "stream",
     "text": []
    },
    {
     "data": {
      "text/plain": [
       "ref 0x10e6c60e8 --> [elements = 0x10e6c7668[0x10e6c76a0[0.2326961497609559, 0.8228467011541094, 0.3333379470197706], 0x10e6c76d8[0.9894961846897405, 0.4437264946689483, 0.07581602342631522], 0x10e6c7710[0.5936563635008223, 0.195534693152861, 0.5258890850057507]]]\n",
       "\n"
      ]
     },
     "execution_count": 11,
     "metadata": {},
     "output_type": "execute_result"
    }
   ],
   "source": [
    "import science/Matrix\n",
    "\n",
    "let z = Matrix.randomMatrix(3, 3)\n",
    "echo(repr(z))"
   ]
  },
  {
   "cell_type": "markdown",
   "metadata": {},
   "source": [
    "Matrix algebra can be performed using `+` for addition, `-` for subtraction and `*` for multiplication:"
   ]
  },
  {
   "cell_type": "code",
   "execution_count": 15,
   "metadata": {},
   "outputs": [
    {
     "name": "stdout",
     "output_type": "stream",
     "text": []
    },
    {
     "data": {
      "text/plain": [
       "ref 0x1018c81c8 --> [elements = 0x1018ca2e8[0x1018ca320[0.544925780238809, 0.1214422269608213, 0.778506314441316], 0x1018ca358[0.8994718290803934, 0.1346014355874552, 0.8706770990328705], 0x1018ca390[0.2601327958047597, 0.7819372625716394, 0.9184421373546581]]]\n",
       "\n",
       "ref 0x1018c81e8 --> [elements = 0x1018ca4a8[0x1018ca4e0[1.089851560477618, 0.2428844539216426, 1.557012628882632], 0x1018ca518[1.798943658160787, 0.2692028711749104, 1.741354198065741], 0x1018ca550[0.5202655916095194, 1.563874525143279, 1.836884274709316]]]\n",
       "\n",
       "ref 0x1018c8208 --> [elements = 0x1018ca668[0x1018ca6a0[0.0, 0.0, 0.0], 0x1018ca6d8[0.0, 0.0, 0.0], 0x1018ca710[0.0, 0.0, 0.0]]]\n",
       "\n",
       "ref 0x1018c8228 --> [elements = 0x1018ca828[0x1018ca860[0.6086929921081998, 0.6912663947794068, 1.244978130067693], 0x1018ca898[0.8377072557437553, 0.808166275875829, 1.617105421845614], 0x1018ca8d0[1.084000527486006, 0.8550051148230892, 1.72686585119745]]]\n",
       "\n"
      ]
     },
     "execution_count": 15,
     "metadata": {},
     "output_type": "execute_result"
    }
   ],
   "source": [
    "import science/Matrix\n",
    "\n",
    "let z = Matrix.randomMatrix(3, 3)\n",
    "echo(repr(z))\n",
    "let zAdd = z + z\n",
    "echo(repr(zAdd))\n",
    "let zSub = z - z\n",
    "echo(repr(zSub))\n",
    "let zMult = z * z\n",
    "echo(repr(zMult))"
   ]
  },
  {
   "cell_type": "code",
   "execution_count": null,
   "metadata": {},
   "outputs": [],
   "source": []
  }
 ],
 "metadata": {
  "kernelspec": {
   "display_name": "Nim",
   "language": "nim",
   "name": "nim-spec"
  },
  "language_info": {
   "codemirror_mode": "nim",
   "file_extension": ".nim",
   "mimetype": "text/x-nimrod",
   "name": "nim",
   "nbconvert_exporter": "",
   "pygments_lexer": "",
   "version": "0.2"
  }
 },
 "nbformat": 4,
 "nbformat_minor": 2
}
